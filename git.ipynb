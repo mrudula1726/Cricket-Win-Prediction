{
  "nbformat": 4,
  "nbformat_minor": 0,
  "metadata": {
    "colab": {
      "provenance": []
    },
    "kernelspec": {
      "name": "python3",
      "display_name": "Python 3"
    },
    "language_info": {
      "name": "python"
    }
  },
  "cells": [
    {
      "cell_type": "code",
      "execution_count": null,
      "metadata": {
        "id": "OXb6Gl9VnLo-"
      },
      "outputs": [],
      "source": [
        "import numpy as np\n",
        "import pandas as pd\n",
        "import seaborn as sns\n",
        "from sklearn.preprocessing import LabelEncoder, OrdinalEncoder, OneHotEncoder\n",
        "from sklearn.model_selection import train_test_split\n",
        "from sklearn.compose import ColumnTransformer\n",
        "from sklearn.linear_model import LogisticRegression\n",
        "from sklearn.ensemble import RandomForestClassifier\n",
        "from sklearn.pipeline import Pipeline\n",
        "import matplotlib.pyplot as plt\n",
        "from sklearn.svm import SVC\n",
        "from sklearn.metrics import accuracy_score, precision_score, f1_score\n",
        "from sklearn.metrics import confusion_matrix\n",
        "import pickle\n",
        "from sklearn.model_selection import KFold\n"
      ]
    },
    {
      "cell_type": "code",
      "source": [
        "import os\n",
        "\n",
        "# Set the search parameters\n",
        "filename = 'draft3.xlsx'\n",
        "search_path = '/content/drive/My Drive'\n",
        "\n",
        "# Search for the file\n",
        "for root, dirs, files in os.walk(search_path):\n",
        "    if filename in files:\n",
        "        file_path = os.path.join(root, filename)\n",
        "        break"
      ],
      "metadata": {
        "id": "T4bKS8IPqdrq"
      },
      "execution_count": null,
      "outputs": []
    },
    {
      "cell_type": "code",
      "source": [
        "from google.colab import drive"
      ],
      "metadata": {
        "id": "BEzoRNLxoC4A"
      },
      "execution_count": null,
      "outputs": []
    },
    {
      "cell_type": "code",
      "source": [
        "drive.mount('/content/drive')"
      ],
      "metadata": {
        "colab": {
          "base_uri": "https://localhost:8080/"
        },
        "id": "R37TE4qtnOv4",
        "outputId": "ebbc6d3c-4465-4cc0-9898-3c22124ffc7b"
      },
      "execution_count": null,
      "outputs": [
        {
          "output_type": "stream",
          "name": "stdout",
          "text": [
            "Drive already mounted at /content/drive; to attempt to forcibly remount, call drive.mount(\"/content/drive\", force_remount=True).\n"
          ]
        }
      ]
    },
    {
      "cell_type": "code",
      "source": [
        "\n",
        "# Load the XLSX file into a DataFrame\n",
        "df = pd.read_excel(file_path)"
      ],
      "metadata": {
        "id": "PHfx82AOoR_m"
      },
      "execution_count": null,
      "outputs": []
    },
    {
      "cell_type": "code",
      "source": [
        "df.head()\n"
      ],
      "metadata": {
        "colab": {
          "base_uri": "https://localhost:8080/",
          "height": 292
        },
        "id": "gmxB1qQLpXN7",
        "outputId": "bcbb8e73-af43-4d39-d19c-d33e982af40f"
      },
      "execution_count": null,
      "outputs": [
        {
          "output_type": "execute_result",
          "data": {
            "text/plain": [
              "  Match_StartDate      Team1        Team2 Format  \\\n",
              "0      2019-06-06  Australia  West Indies    ODI   \n",
              "1      2019-06-03   Pakistan      England    ODI   \n",
              "2      2016-08-30    England     Pakistan    ODI   \n",
              "3      2017-09-24    England  West Indies    ODI   \n",
              "4      2013-06-05    England  New Zealand    ODI   \n",
              "\n",
              "   Balls_Remaining_after_winning Toss_by_Team1 Bat_by_Team1      Ground  \\\n",
              "0                            NaN          lost          1st  Nottingham   \n",
              "1                            NaN          lost          1st  Nottingham   \n",
              "2                            NaN           won          1st  Nottingham   \n",
              "3                            NaN          lost          1st     Bristol   \n",
              "4                            NaN          lost          1st  Nottingham   \n",
              "\n",
              "  Match_Result    Margin Ground_Country    Venue  \n",
              "0          won   15 runs        England  Neutral  \n",
              "1          won   14 runs        England     Away  \n",
              "2          won  169 runs        England     Home  \n",
              "3          won  124 runs        England     Home  \n",
              "4          won   34 runs        England     Home  "
            ],
            "text/html": [
              "\n",
              "  <div id=\"df-5955d103-98c9-4e6a-a078-f33489ac5a97\" class=\"colab-df-container\">\n",
              "    <div>\n",
              "<style scoped>\n",
              "    .dataframe tbody tr th:only-of-type {\n",
              "        vertical-align: middle;\n",
              "    }\n",
              "\n",
              "    .dataframe tbody tr th {\n",
              "        vertical-align: top;\n",
              "    }\n",
              "\n",
              "    .dataframe thead th {\n",
              "        text-align: right;\n",
              "    }\n",
              "</style>\n",
              "<table border=\"1\" class=\"dataframe\">\n",
              "  <thead>\n",
              "    <tr style=\"text-align: right;\">\n",
              "      <th></th>\n",
              "      <th>Match_StartDate</th>\n",
              "      <th>Team1</th>\n",
              "      <th>Team2</th>\n",
              "      <th>Format</th>\n",
              "      <th>Balls_Remaining_after_winning</th>\n",
              "      <th>Toss_by_Team1</th>\n",
              "      <th>Bat_by_Team1</th>\n",
              "      <th>Ground</th>\n",
              "      <th>Match_Result</th>\n",
              "      <th>Margin</th>\n",
              "      <th>Ground_Country</th>\n",
              "      <th>Venue</th>\n",
              "    </tr>\n",
              "  </thead>\n",
              "  <tbody>\n",
              "    <tr>\n",
              "      <th>0</th>\n",
              "      <td>2019-06-06</td>\n",
              "      <td>Australia</td>\n",
              "      <td>West Indies</td>\n",
              "      <td>ODI</td>\n",
              "      <td>NaN</td>\n",
              "      <td>lost</td>\n",
              "      <td>1st</td>\n",
              "      <td>Nottingham</td>\n",
              "      <td>won</td>\n",
              "      <td>15 runs</td>\n",
              "      <td>England</td>\n",
              "      <td>Neutral</td>\n",
              "    </tr>\n",
              "    <tr>\n",
              "      <th>1</th>\n",
              "      <td>2019-06-03</td>\n",
              "      <td>Pakistan</td>\n",
              "      <td>England</td>\n",
              "      <td>ODI</td>\n",
              "      <td>NaN</td>\n",
              "      <td>lost</td>\n",
              "      <td>1st</td>\n",
              "      <td>Nottingham</td>\n",
              "      <td>won</td>\n",
              "      <td>14 runs</td>\n",
              "      <td>England</td>\n",
              "      <td>Away</td>\n",
              "    </tr>\n",
              "    <tr>\n",
              "      <th>2</th>\n",
              "      <td>2016-08-30</td>\n",
              "      <td>England</td>\n",
              "      <td>Pakistan</td>\n",
              "      <td>ODI</td>\n",
              "      <td>NaN</td>\n",
              "      <td>won</td>\n",
              "      <td>1st</td>\n",
              "      <td>Nottingham</td>\n",
              "      <td>won</td>\n",
              "      <td>169 runs</td>\n",
              "      <td>England</td>\n",
              "      <td>Home</td>\n",
              "    </tr>\n",
              "    <tr>\n",
              "      <th>3</th>\n",
              "      <td>2017-09-24</td>\n",
              "      <td>England</td>\n",
              "      <td>West Indies</td>\n",
              "      <td>ODI</td>\n",
              "      <td>NaN</td>\n",
              "      <td>lost</td>\n",
              "      <td>1st</td>\n",
              "      <td>Bristol</td>\n",
              "      <td>won</td>\n",
              "      <td>124 runs</td>\n",
              "      <td>England</td>\n",
              "      <td>Home</td>\n",
              "    </tr>\n",
              "    <tr>\n",
              "      <th>4</th>\n",
              "      <td>2013-06-05</td>\n",
              "      <td>England</td>\n",
              "      <td>New Zealand</td>\n",
              "      <td>ODI</td>\n",
              "      <td>NaN</td>\n",
              "      <td>lost</td>\n",
              "      <td>1st</td>\n",
              "      <td>Nottingham</td>\n",
              "      <td>won</td>\n",
              "      <td>34 runs</td>\n",
              "      <td>England</td>\n",
              "      <td>Home</td>\n",
              "    </tr>\n",
              "  </tbody>\n",
              "</table>\n",
              "</div>\n",
              "    <div class=\"colab-df-buttons\">\n",
              "\n",
              "  <div class=\"colab-df-container\">\n",
              "    <button class=\"colab-df-convert\" onclick=\"convertToInteractive('df-5955d103-98c9-4e6a-a078-f33489ac5a97')\"\n",
              "            title=\"Convert this dataframe to an interactive table.\"\n",
              "            style=\"display:none;\">\n",
              "\n",
              "  <svg xmlns=\"http://www.w3.org/2000/svg\" height=\"24px\" viewBox=\"0 -960 960 960\">\n",
              "    <path d=\"M120-120v-720h720v720H120Zm60-500h600v-160H180v160Zm220 220h160v-160H400v160Zm0 220h160v-160H400v160ZM180-400h160v-160H180v160Zm440 0h160v-160H620v160ZM180-180h160v-160H180v160Zm440 0h160v-160H620v160Z\"/>\n",
              "  </svg>\n",
              "    </button>\n",
              "\n",
              "  <style>\n",
              "    .colab-df-container {\n",
              "      display:flex;\n",
              "      gap: 12px;\n",
              "    }\n",
              "\n",
              "    .colab-df-convert {\n",
              "      background-color: #E8F0FE;\n",
              "      border: none;\n",
              "      border-radius: 50%;\n",
              "      cursor: pointer;\n",
              "      display: none;\n",
              "      fill: #1967D2;\n",
              "      height: 32px;\n",
              "      padding: 0 0 0 0;\n",
              "      width: 32px;\n",
              "    }\n",
              "\n",
              "    .colab-df-convert:hover {\n",
              "      background-color: #E2EBFA;\n",
              "      box-shadow: 0px 1px 2px rgba(60, 64, 67, 0.3), 0px 1px 3px 1px rgba(60, 64, 67, 0.15);\n",
              "      fill: #174EA6;\n",
              "    }\n",
              "\n",
              "    .colab-df-buttons div {\n",
              "      margin-bottom: 4px;\n",
              "    }\n",
              "\n",
              "    [theme=dark] .colab-df-convert {\n",
              "      background-color: #3B4455;\n",
              "      fill: #D2E3FC;\n",
              "    }\n",
              "\n",
              "    [theme=dark] .colab-df-convert:hover {\n",
              "      background-color: #434B5C;\n",
              "      box-shadow: 0px 1px 3px 1px rgba(0, 0, 0, 0.15);\n",
              "      filter: drop-shadow(0px 1px 2px rgba(0, 0, 0, 0.3));\n",
              "      fill: #FFFFFF;\n",
              "    }\n",
              "  </style>\n",
              "\n",
              "    <script>\n",
              "      const buttonEl =\n",
              "        document.querySelector('#df-5955d103-98c9-4e6a-a078-f33489ac5a97 button.colab-df-convert');\n",
              "      buttonEl.style.display =\n",
              "        google.colab.kernel.accessAllowed ? 'block' : 'none';\n",
              "\n",
              "      async function convertToInteractive(key) {\n",
              "        const element = document.querySelector('#df-5955d103-98c9-4e6a-a078-f33489ac5a97');\n",
              "        const dataTable =\n",
              "          await google.colab.kernel.invokeFunction('convertToInteractive',\n",
              "                                                    [key], {});\n",
              "        if (!dataTable) return;\n",
              "\n",
              "        const docLinkHtml = 'Like what you see? Visit the ' +\n",
              "          '<a target=\"_blank\" href=https://colab.research.google.com/notebooks/data_table.ipynb>data table notebook</a>'\n",
              "          + ' to learn more about interactive tables.';\n",
              "        element.innerHTML = '';\n",
              "        dataTable['output_type'] = 'display_data';\n",
              "        await google.colab.output.renderOutput(dataTable, element);\n",
              "        const docLink = document.createElement('div');\n",
              "        docLink.innerHTML = docLinkHtml;\n",
              "        element.appendChild(docLink);\n",
              "      }\n",
              "    </script>\n",
              "  </div>\n",
              "\n",
              "\n",
              "<div id=\"df-0a3d9c3d-7d92-4675-a36b-e02a49dc83a8\">\n",
              "  <button class=\"colab-df-quickchart\" onclick=\"quickchart('df-0a3d9c3d-7d92-4675-a36b-e02a49dc83a8')\"\n",
              "            title=\"Suggest charts.\"\n",
              "            style=\"display:none;\">\n",
              "\n",
              "<svg xmlns=\"http://www.w3.org/2000/svg\" height=\"24px\"viewBox=\"0 0 24 24\"\n",
              "     width=\"24px\">\n",
              "    <g>\n",
              "        <path d=\"M19 3H5c-1.1 0-2 .9-2 2v14c0 1.1.9 2 2 2h14c1.1 0 2-.9 2-2V5c0-1.1-.9-2-2-2zM9 17H7v-7h2v7zm4 0h-2V7h2v10zm4 0h-2v-4h2v4z\"/>\n",
              "    </g>\n",
              "</svg>\n",
              "  </button>\n",
              "\n",
              "<style>\n",
              "  .colab-df-quickchart {\n",
              "      --bg-color: #E8F0FE;\n",
              "      --fill-color: #1967D2;\n",
              "      --hover-bg-color: #E2EBFA;\n",
              "      --hover-fill-color: #174EA6;\n",
              "      --disabled-fill-color: #AAA;\n",
              "      --disabled-bg-color: #DDD;\n",
              "  }\n",
              "\n",
              "  [theme=dark] .colab-df-quickchart {\n",
              "      --bg-color: #3B4455;\n",
              "      --fill-color: #D2E3FC;\n",
              "      --hover-bg-color: #434B5C;\n",
              "      --hover-fill-color: #FFFFFF;\n",
              "      --disabled-bg-color: #3B4455;\n",
              "      --disabled-fill-color: #666;\n",
              "  }\n",
              "\n",
              "  .colab-df-quickchart {\n",
              "    background-color: var(--bg-color);\n",
              "    border: none;\n",
              "    border-radius: 50%;\n",
              "    cursor: pointer;\n",
              "    display: none;\n",
              "    fill: var(--fill-color);\n",
              "    height: 32px;\n",
              "    padding: 0;\n",
              "    width: 32px;\n",
              "  }\n",
              "\n",
              "  .colab-df-quickchart:hover {\n",
              "    background-color: var(--hover-bg-color);\n",
              "    box-shadow: 0 1px 2px rgba(60, 64, 67, 0.3), 0 1px 3px 1px rgba(60, 64, 67, 0.15);\n",
              "    fill: var(--button-hover-fill-color);\n",
              "  }\n",
              "\n",
              "  .colab-df-quickchart-complete:disabled,\n",
              "  .colab-df-quickchart-complete:disabled:hover {\n",
              "    background-color: var(--disabled-bg-color);\n",
              "    fill: var(--disabled-fill-color);\n",
              "    box-shadow: none;\n",
              "  }\n",
              "\n",
              "  .colab-df-spinner {\n",
              "    border: 2px solid var(--fill-color);\n",
              "    border-color: transparent;\n",
              "    border-bottom-color: var(--fill-color);\n",
              "    animation:\n",
              "      spin 1s steps(1) infinite;\n",
              "  }\n",
              "\n",
              "  @keyframes spin {\n",
              "    0% {\n",
              "      border-color: transparent;\n",
              "      border-bottom-color: var(--fill-color);\n",
              "      border-left-color: var(--fill-color);\n",
              "    }\n",
              "    20% {\n",
              "      border-color: transparent;\n",
              "      border-left-color: var(--fill-color);\n",
              "      border-top-color: var(--fill-color);\n",
              "    }\n",
              "    30% {\n",
              "      border-color: transparent;\n",
              "      border-left-color: var(--fill-color);\n",
              "      border-top-color: var(--fill-color);\n",
              "      border-right-color: var(--fill-color);\n",
              "    }\n",
              "    40% {\n",
              "      border-color: transparent;\n",
              "      border-right-color: var(--fill-color);\n",
              "      border-top-color: var(--fill-color);\n",
              "    }\n",
              "    60% {\n",
              "      border-color: transparent;\n",
              "      border-right-color: var(--fill-color);\n",
              "    }\n",
              "    80% {\n",
              "      border-color: transparent;\n",
              "      border-right-color: var(--fill-color);\n",
              "      border-bottom-color: var(--fill-color);\n",
              "    }\n",
              "    90% {\n",
              "      border-color: transparent;\n",
              "      border-bottom-color: var(--fill-color);\n",
              "    }\n",
              "  }\n",
              "</style>\n",
              "\n",
              "  <script>\n",
              "    async function quickchart(key) {\n",
              "      const quickchartButtonEl =\n",
              "        document.querySelector('#' + key + ' button');\n",
              "      quickchartButtonEl.disabled = true;  // To prevent multiple clicks.\n",
              "      quickchartButtonEl.classList.add('colab-df-spinner');\n",
              "      try {\n",
              "        const charts = await google.colab.kernel.invokeFunction(\n",
              "            'suggestCharts', [key], {});\n",
              "      } catch (error) {\n",
              "        console.error('Error during call to suggestCharts:', error);\n",
              "      }\n",
              "      quickchartButtonEl.classList.remove('colab-df-spinner');\n",
              "      quickchartButtonEl.classList.add('colab-df-quickchart-complete');\n",
              "    }\n",
              "    (() => {\n",
              "      let quickchartButtonEl =\n",
              "        document.querySelector('#df-0a3d9c3d-7d92-4675-a36b-e02a49dc83a8 button');\n",
              "      quickchartButtonEl.style.display =\n",
              "        google.colab.kernel.accessAllowed ? 'block' : 'none';\n",
              "    })();\n",
              "  </script>\n",
              "</div>\n",
              "    </div>\n",
              "  </div>\n"
            ]
          },
          "metadata": {},
          "execution_count": 24
        }
      ]
    },
    {
      "cell_type": "code",
      "source": [
        "#Checking how many rows have values in 'Balls_Remaining_after_winning' column\n",
        "pd.value_counts(df['Balls_Remaining_after_winning'])"
      ],
      "metadata": {
        "colab": {
          "base_uri": "https://localhost:8080/"
        },
        "id": "43u29Q3Qou6b",
        "outputId": "41057859-3a33-425f-fb3d-1c1cea04763d"
      },
      "execution_count": null,
      "outputs": [
        {
          "output_type": "execute_result",
          "data": {
            "text/plain": [
              "2.0      118\n",
              "4.0       89\n",
              "6.0       89\n",
              "1.0       85\n",
              "7.0       79\n",
              "        ... \n",
              "187.0      1\n",
              "158.0      1\n",
              "149.0      1\n",
              "167.0      1\n",
              "133.0      1\n",
              "Name: Balls_Remaining_after_winning, Length: 180, dtype: int64"
            ]
          },
          "metadata": {},
          "execution_count": 25
        }
      ]
    },
    {
      "cell_type": "code",
      "source": [
        "#Checking how many rows have values in 'Margin' column\n",
        "pd.value_counts(df['Margin'])"
      ],
      "metadata": {
        "id": "-X-IXj29pFtk",
        "colab": {
          "base_uri": "https://localhost:8080/"
        },
        "outputId": "9a363fad-8f65-41f4-ff92-92fabc2ab42d"
      },
      "execution_count": null,
      "outputs": [
        {
          "output_type": "execute_result",
          "data": {
            "text/plain": [
              "7 wickets         430\n",
              "6 wickets         420\n",
              "-                 354\n",
              "5 wickets         343\n",
              "8 wickets         332\n",
              "                 ... \n",
              "166 runs            2\n",
              "inns & 15 runs      2\n",
              "145 runs            2\n",
              "175 runs            1\n",
              "255 runs            1\n",
              "Name: Margin, Length: 359, dtype: int64"
            ]
          },
          "metadata": {},
          "execution_count": 26
        }
      ]
    },
    {
      "cell_type": "code",
      "source": [
        "#Checking how many rows have values in 'Ground' column\n",
        "pd.value_counts(df['Ground'])"
      ],
      "metadata": {
        "colab": {
          "base_uri": "https://localhost:8080/"
        },
        "id": "upSQOcR3qy9n",
        "outputId": "2fd03fa4-7514-4f52-a7c9-54527fd93a38"
      },
      "execution_count": null,
      "outputs": [
        {
          "output_type": "execute_result",
          "data": {
            "text/plain": [
              "Mirpur            326\n",
              "Harare            238\n",
              "Dubai (DSC)       204\n",
              "Colombo (RPS)     168\n",
              "Abu Dhabi         151\n",
              "                 ... \n",
              "Schiedam            2\n",
              "Brabourne           2\n",
              "Raipur              2\n",
              "Toronto             1\n",
              "Tolerance Oval      1\n",
              "Name: Ground, Length: 140, dtype: int64"
            ]
          },
          "metadata": {},
          "execution_count": 27
        }
      ]
    },
    {
      "cell_type": "code",
      "source": [
        "#Dropping columns\n",
        "df.drop('Match_StartDate', inplace=True, axis=1)\n",
        "df.drop('Margin', inplace=True, axis=1)\n",
        "df.drop('Balls_Remaining_after_winning', inplace=True, axis=1)\n",
        "df.drop('Ground', inplace=True, axis=1)"
      ],
      "metadata": {
        "id": "eWu5ZKVwq1rD"
      },
      "execution_count": null,
      "outputs": []
    },
    {
      "cell_type": "code",
      "source": [
        "#Removing insignificant teams in 'Team2' column\n",
        "df = df[(df['Team2'] != 'Cameroon')]\n",
        "df = df[(df['Team2'] != 'Canada')]\n",
        "df = df[(df['Team2'] != 'Hong Kong')]\n",
        "df = df[(df['Team2'] != 'Oman')]\n",
        "df = df[(df['Team2'] != 'U.A.E.')]\n",
        "df = df[(df['Team2'] != 'P.N.G.')]\n",
        "df = df[(df['Team2'] != 'U.S.A.')]\n",
        "df = df[(df['Team2'] != 'Nepal')]\n",
        "df = df[(df['Team2'] != 'Namibia')]\n",
        "df = df[(df['Team2'] != 'Malawi')]\n",
        "df = df[(df['Team2'] != 'Uganda')]\n",
        "df = df[(df['Team2'] != 'Ghana')]\n",
        "df = df[(df['Team2'] != 'Nigeria')]\n",
        "df = df[(df['Team2'] != 'World-XI')]\n",
        "df = df[(df['Team2'] != 'Lesotho')]\n",
        "df = df[(df['Team2'] != 'Malaysia')]\n",
        "df = df[(df['Team2'] != 'ICC World XI')]\n",
        "df = df[(df['Team2'] != 'Singapore')]\n",
        "df = df[(df['Team2'] != 'Jersey')]\n",
        "df = df[(df['Team2'] != 'Bermuda')]\n",
        "df = df[(df['Team2'] != 'Tanzania')]\n",
        "df = df[(df['Team2'] != 'St Helena')]\n",
        "df = df[(df['Team2'] != 'Mali')]\n",
        "df = df[(df['Team2'] != 'Rwanda')]\n",
        "df = df[(df['Team2'] != 'Botswana')]\n",
        "df = df[(df['Team2'] != 'Seychelles')]"
      ],
      "metadata": {
        "id": "TM7OqsvRq4h6"
      },
      "execution_count": null,
      "outputs": []
    },
    {
      "cell_type": "code",
      "source": [
        "# replace \"st\", \"nd\", \"rd\", or \"th\" with an empty string\n",
        "df['Bat_by_Team1'] = df['Bat_by_Team1'].str.replace('st|nd', '')\n",
        "\n",
        "# convert the column to a numeric data type\n",
        "df['Bat_by_Team1'] = pd.to_numeric(df['Bat_by_Team1'])"
      ],
      "metadata": {
        "colab": {
          "base_uri": "https://localhost:8080/"
        },
        "id": "FCSHSTJ2q80_",
        "outputId": "a238fed4-2b70-4d58-eb9b-b30030373eb8"
      },
      "execution_count": null,
      "outputs": [
        {
          "output_type": "stream",
          "name": "stderr",
          "text": [
            "<ipython-input-30-aaff549ac98c>:2: FutureWarning: The default value of regex will change from True to False in a future version.\n",
            "  df['Bat_by_Team1'] = df['Bat_by_Team1'].str.replace('st|nd', '')\n"
          ]
        }
      ]
    },
    {
      "cell_type": "code",
      "source": [
        "new_order = ['Team1', 'Team2', 'Format', 'Toss_by_Team1', 'Bat_by_Team1', 'Ground_Country', 'Venue', 'Match_Result']\n",
        "df = df.reindex(columns=new_order)"
      ],
      "metadata": {
        "id": "wI1GmRMMq_1_"
      },
      "execution_count": null,
      "outputs": []
    },
    {
      "cell_type": "code",
      "source": [
        "df['Team1'].unique()"
      ],
      "metadata": {
        "colab": {
          "base_uri": "https://localhost:8080/"
        },
        "id": "jf7uWkG1rCk3",
        "outputId": "a410c20b-62de-4047-b750-d510d14b6156"
      },
      "execution_count": null,
      "outputs": [
        {
          "output_type": "execute_result",
          "data": {
            "text/plain": [
              "array(['Australia', 'Pakistan', 'England', 'South Africa', 'India',\n",
              "       'New Zealand', 'Sri Lanka', 'Bangladesh', 'West Indies',\n",
              "       'Afghanistan', 'Zimbabwe', 'Scotland', 'Netherlands', 'Kenya'],\n",
              "      dtype=object)"
            ]
          },
          "metadata": {},
          "execution_count": 32
        }
      ]
    },
    {
      "cell_type": "code",
      "source": [
        "df['Team2'].unique()"
      ],
      "metadata": {
        "colab": {
          "base_uri": "https://localhost:8080/"
        },
        "id": "O4M1iGK8rmtW",
        "outputId": "8f23656a-5cc7-45c5-c9d5-ff754eb8a9eb"
      },
      "execution_count": null,
      "outputs": [
        {
          "output_type": "execute_result",
          "data": {
            "text/plain": [
              "array(['West Indies', 'England', 'Pakistan', 'New Zealand', 'Bangladesh',\n",
              "       'Australia', 'India', 'Afghanistan', 'South Africa', 'Sri Lanka',\n",
              "       'Ireland', 'Kenya', 'Netherlands', 'Zimbabwe', 'Scotland'],\n",
              "      dtype=object)"
            ]
          },
          "metadata": {},
          "execution_count": 33
        }
      ]
    },
    {
      "cell_type": "code",
      "source": [
        "df['Format'].unique()"
      ],
      "metadata": {
        "colab": {
          "base_uri": "https://localhost:8080/"
        },
        "id": "tYgD08z8rpUv",
        "outputId": "30b8b6d3-a169-4258-9153-0f996cd259f2"
      },
      "execution_count": null,
      "outputs": [
        {
          "output_type": "execute_result",
          "data": {
            "text/plain": [
              "array(['ODI', 'T20I', 'Test'], dtype=object)"
            ]
          },
          "metadata": {},
          "execution_count": 34
        }
      ]
    },
    {
      "cell_type": "code",
      "source": [
        "df['Venue'].unique()"
      ],
      "metadata": {
        "colab": {
          "base_uri": "https://localhost:8080/"
        },
        "id": "LbWsJuS1rsyw",
        "outputId": "daebc133-b13e-4094-ddc9-e26397df7f89"
      },
      "execution_count": null,
      "outputs": [
        {
          "output_type": "execute_result",
          "data": {
            "text/plain": [
              "array(['Neutral', 'Away', 'Home'], dtype=object)"
            ]
          },
          "metadata": {},
          "execution_count": 35
        }
      ]
    },
    {
      "cell_type": "code",
      "source": [
        "df['Match_Result'].unique()"
      ],
      "metadata": {
        "colab": {
          "base_uri": "https://localhost:8080/"
        },
        "id": "Pk6-cwvcrvf2",
        "outputId": "419e9bf2-a346-4ba5-de05-e33725d1abdd"
      },
      "execution_count": null,
      "outputs": [
        {
          "output_type": "execute_result",
          "data": {
            "text/plain": [
              "array(['won', 'lost', 'draw', 'n/r', 'tied'], dtype=object)"
            ]
          },
          "metadata": {},
          "execution_count": 36
        }
      ]
    },
    {
      "cell_type": "code",
      "source": [
        "df = df.drop(df[df.Match_Result == 'n/r'].index)"
      ],
      "metadata": {
        "id": "Q6huRlP_ryWz"
      },
      "execution_count": null,
      "outputs": []
    },
    {
      "cell_type": "code",
      "source": [
        "df['Match_Result'] = df['Match_Result'].str.replace('draw', 'tied')"
      ],
      "metadata": {
        "id": "B4RUTBGQr09u"
      },
      "execution_count": null,
      "outputs": []
    },
    {
      "cell_type": "code",
      "source": [
        "df['Format'].value_counts ().plot(kind='pie',autopct='%.2f')"
      ],
      "metadata": {
        "colab": {
          "base_uri": "https://localhost:8080/",
          "height": 423
        },
        "id": "nQ3yCNhtr3zF",
        "outputId": "4eedb91f-f460-4982-8bbb-84099ec9d902"
      },
      "execution_count": null,
      "outputs": [
        {
          "output_type": "execute_result",
          "data": {
            "text/plain": [
              "<Axes: ylabel='Format'>"
            ]
          },
          "metadata": {},
          "execution_count": 39
        },
        {
          "output_type": "display_data",
          "data": {
            "text/plain": [
              "<Figure size 640x480 with 1 Axes>"
            ],
            "image/png": "[encoded data removed]"
          },
          "metadata": {}
        }
      ]
    },
    {
      "cell_type": "code",
      "source": [
        "plt.figure(figsize=(20,10))\n",
        "sns.countplot(x=\"Team1\", hue=\"Match_Result\", data=df)\n",
        "plt.xticks(rotation=90)\n",
        "plt.title('Number of Matches played ')\n",
        "plt.show()"
      ],
      "metadata": {
        "colab": {
          "base_uri": "https://localhost:8080/",
          "height": 773
        },
        "id": "L3W8xIzMr6Xl",
        "outputId": "9d4799d0-20d3-436a-c687-ca161d6fe275"
      },
      "execution_count": null,
      "outputs": [
        {
          "output_type": "display_data",
          "data": {
            "text/plain": [
              "<Figure size 2000x1000 with 1 Axes>"
            ],
            "image/png": "[encoded data removed]"
          },
          "metadata": {}
        }
      ]
    },
    {
      "cell_type": "code",
      "source": [
        "plt.figure(figsize=(20,10))\n",
        "sns.countplot(x=\"Toss_by_Team1\", hue=\"Bat_by_Team1\", data=df, palette=\"Blues\")\n",
        "plt.xticks(rotation=90)\n",
        "plt.title('Checking whether Teams would like to bat 1st or 2nd ')\n",
        "plt.show()"
      ],
      "metadata": {
        "colab": {
          "base_uri": "https://localhost:8080/",
          "height": 719
        },
        "id": "8sO7VSVer9YB",
        "outputId": "8b81794c-1f76-4a7e-9c47-be47e9b4a00c"
      },
      "execution_count": null,
      "outputs": [
        {
          "output_type": "display_data",
          "data": {
            "text/plain": [
              "<Figure size 2000x1000 with 1 Axes>"
            ],
            "image/png": "[encoded data removed]"
          },
          "metadata": {}
        }
      ]
    },
    {
      "cell_type": "code",
      "source": [
        "plt.figure(figsize=(20,10))\n",
        "sns.countplot(y=\"Team1\", hue=\"Format\", data=df, palette=\"husl\")\n",
        "plt.xticks(rotation=90)\n",
        "plt.title('Comparing number of games played by each team across all formats ')\n",
        "plt.show()"
      ],
      "metadata": {
        "colab": {
          "base_uri": "https://localhost:8080/",
          "height": 693
        },
        "id": "wyXllD43sAmz",
        "outputId": "6019f974-0b76-444f-ca1d-002aba5a1eb0"
      },
      "execution_count": null,
      "outputs": [
        {
          "output_type": "display_data",
          "data": {
            "text/plain": [
              "<Figure size 2000x1000 with 1 Axes>"
            ],
            "image/png": "[encoded data removed]"
          },
          "metadata": {}
        }
      ]
    },
    {
      "cell_type": "code",
      "source": [
        "sns.catplot(data = df, hue = \"Match_Result\",\n",
        "            x=\"Venue\", col = \"Bat_by_Team1\",\n",
        "            kind = \"count\",\n",
        "            aspect = 0.7, height = 4)\n",
        "plt.show()"
      ],
      "metadata": {
        "colab": {
          "base_uri": "https://localhost:8080/",
          "height": 407
        },
        "id": "yGgiIYfMsEjf",
        "outputId": "b5f1530d-6b75-4724-a3bc-daf2d7e8a795"
      },
      "execution_count": null,
      "outputs": [
        {
          "output_type": "display_data",
          "data": {
            "text/plain": [
              "<Figure size 663.361x400 with 2 Axes>"
            ],
            "image/png": "[encoded data removed]"
          },
          "metadata": {}
        }
      ]
    },
    {
      "cell_type": "code",
      "source": [
        "print(df.isnull().sum())   # Check for missing values in each column"
      ],
      "metadata": {
        "colab": {
          "base_uri": "https://localhost:8080/"
        },
        "id": "5ypo7cCtsIrJ",
        "outputId": "41729f6f-e9a9-4a4c-8443-9588e8582b02"
      },
      "execution_count": null,
      "outputs": [
        {
          "output_type": "stream",
          "name": "stdout",
          "text": [
            "Team1             0\n",
            "Team2             0\n",
            "Format            0\n",
            "Toss_by_Team1     0\n",
            "Bat_by_Team1      0\n",
            "Ground_Country    0\n",
            "Venue             0\n",
            "Match_Result      0\n",
            "dtype: int64\n"
          ]
        }
      ]
    },
    {
      "cell_type": "code",
      "source": [
        "df"
      ],
      "metadata": {
        "colab": {
          "base_uri": "https://localhost:8080/",
          "height": 419
        },
        "id": "HSmpV86gsL9Z",
        "outputId": "957005f0-9e45-4ff7-c76b-da441ec31a2c"
      },
      "execution_count": null,
      "outputs": [
        {
          "output_type": "execute_result",
          "data": {
            "text/plain": [
              "           Team1        Team2 Format Toss_by_Team1  Bat_by_Team1  \\\n",
              "0      Australia  West Indies    ODI          lost             1   \n",
              "1       Pakistan      England    ODI          lost             1   \n",
              "2        England     Pakistan    ODI           won             1   \n",
              "3        England  West Indies    ODI          lost             1   \n",
              "4        England  New Zealand    ODI          lost             1   \n",
              "...          ...          ...    ...           ...           ...   \n",
              "5573       India   Bangladesh    ODI          lost             2   \n",
              "5574   Sri Lanka     Zimbabwe    ODI          lost             2   \n",
              "5575       India    Sri Lanka    ODI          lost             2   \n",
              "5576       India   Bangladesh    ODI           won             2   \n",
              "5577  Bangladesh     Zimbabwe    ODI           won             2   \n",
              "\n",
              "     Ground_Country    Venue Match_Result  \n",
              "0           England  Neutral          won  \n",
              "1           England     Away          won  \n",
              "2           England     Home          won  \n",
              "3           England     Home          won  \n",
              "4           England     Home          won  \n",
              "...             ...      ...          ...  \n",
              "5573     Bangladesh     Away          won  \n",
              "5574       Zimbabwe     Away          won  \n",
              "5575      Sri Lanka     Away          won  \n",
              "5576     Bangladesh     Away          won  \n",
              "5577       Zimbabwe     Away          won  \n",
              "\n",
              "[5238 rows x 8 columns]"
            ],
            "text/html": [
              "\n",
              "  <div id=\"df-ced7d72a-a694-487c-b69f-61954bb5ad0a\" class=\"colab-df-container\">\n",
              "    <div>\n",
              "<style scoped>\n",
              "    .dataframe tbody tr th:only-of-type {\n",
              "        vertical-align: middle;\n",
              "    }\n",
              "\n",
              "    .dataframe tbody tr th {\n",
              "        vertical-align: top;\n",
              "    }\n",
              "\n",
              "    .dataframe thead th {\n",
              "        text-align: right;\n",
              "    }\n",
              "</style>\n",
              "<table border=\"1\" class=\"dataframe\">\n",
              "  <thead>\n",
              "    <tr style=\"text-align: right;\">\n",
              "      <th></th>\n",
              "      <th>Team1</th>\n",
              "      <th>Team2</th>\n",
              "      <th>Format</th>\n",
              "      <th>Toss_by_Team1</th>\n",
              "      <th>Bat_by_Team1</th>\n",
              "      <th>Ground_Country</th>\n",
              "      <th>Venue</th>\n",
              "      <th>Match_Result</th>\n",
              "    </tr>\n",
              "  </thead>\n",
              "  <tbody>\n",
              "    <tr>\n",
              "      <th>0</th>\n",
              "      <td>Australia</td>\n",
              "      <td>West Indies</td>\n",
              "      <td>ODI</td>\n",
              "      <td>lost</td>\n",
              "      <td>1</td>\n",
              "      <td>England</td>\n",
              "      <td>Neutral</td>\n",
              "      <td>won</td>\n",
              "    </tr>\n",
              "    <tr>\n",
              "      <th>1</th>\n",
              "      <td>Pakistan</td>\n",
              "      <td>England</td>\n",
              "      <td>ODI</td>\n",
              "      <td>lost</td>\n",
              "      <td>1</td>\n",
              "      <td>England</td>\n",
              "      <td>Away</td>\n",
              "      <td>won</td>\n",
              "    </tr>\n",
              "    <tr>\n",
              "      <th>2</th>\n",
              "      <td>England</td>\n",
              "      <td>Pakistan</td>\n",
              "      <td>ODI</td>\n",
              "      <td>won</td>\n",
              "      <td>1</td>\n",
              "      <td>England</td>\n",
              "      <td>Home</td>\n",
              "      <td>won</td>\n",
              "    </tr>\n",
              "    <tr>\n",
              "      <th>3</th>\n",
              "      <td>England</td>\n",
              "      <td>West Indies</td>\n",
              "      <td>ODI</td>\n",
              "      <td>lost</td>\n",
              "      <td>1</td>\n",
              "      <td>England</td>\n",
              "      <td>Home</td>\n",
              "      <td>won</td>\n",
              "    </tr>\n",
              "    <tr>\n",
              "      <th>4</th>\n",
              "      <td>England</td>\n",
              "      <td>New Zealand</td>\n",
              "      <td>ODI</td>\n",
              "      <td>lost</td>\n",
              "      <td>1</td>\n",
              "      <td>England</td>\n",
              "      <td>Home</td>\n",
              "      <td>won</td>\n",
              "    </tr>\n",
              "    <tr>\n",
              "      <th>...</th>\n",
              "      <td>...</td>\n",
              "      <td>...</td>\n",
              "      <td>...</td>\n",
              "      <td>...</td>\n",
              "      <td>...</td>\n",
              "      <td>...</td>\n",
              "      <td>...</td>\n",
              "      <td>...</td>\n",
              "    </tr>\n",
              "    <tr>\n",
              "      <th>5573</th>\n",
              "      <td>India</td>\n",
              "      <td>Bangladesh</td>\n",
              "      <td>ODI</td>\n",
              "      <td>lost</td>\n",
              "      <td>2</td>\n",
              "      <td>Bangladesh</td>\n",
              "      <td>Away</td>\n",
              "      <td>won</td>\n",
              "    </tr>\n",
              "    <tr>\n",
              "      <th>5574</th>\n",
              "      <td>Sri Lanka</td>\n",
              "      <td>Zimbabwe</td>\n",
              "      <td>ODI</td>\n",
              "      <td>lost</td>\n",
              "      <td>2</td>\n",
              "      <td>Zimbabwe</td>\n",
              "      <td>Away</td>\n",
              "      <td>won</td>\n",
              "    </tr>\n",
              "    <tr>\n",
              "      <th>5575</th>\n",
              "      <td>India</td>\n",
              "      <td>Sri Lanka</td>\n",
              "      <td>ODI</td>\n",
              "      <td>lost</td>\n",
              "      <td>2</td>\n",
              "      <td>Sri Lanka</td>\n",
              "      <td>Away</td>\n",
              "      <td>won</td>\n",
              "    </tr>\n",
              "    <tr>\n",
              "      <th>5576</th>\n",
              "      <td>India</td>\n",
              "      <td>Bangladesh</td>\n",
              "      <td>ODI</td>\n",
              "      <td>won</td>\n",
              "      <td>2</td>\n",
              "      <td>Bangladesh</td>\n",
              "      <td>Away</td>\n",
              "      <td>won</td>\n",
              "    </tr>\n",
              "    <tr>\n",
              "      <th>5577</th>\n",
              "      <td>Bangladesh</td>\n",
              "      <td>Zimbabwe</td>\n",
              "      <td>ODI</td>\n",
              "      <td>won</td>\n",
              "      <td>2</td>\n",
              "      <td>Zimbabwe</td>\n",
              "      <td>Away</td>\n",
              "      <td>won</td>\n",
              "    </tr>\n",
              "  </tbody>\n",
              "</table>\n",
              "<p>5238 rows × 8 columns</p>\n",
              "</div>\n",
              "    <div class=\"colab-df-buttons\">\n",
              "\n",
              "  <div class=\"colab-df-container\">\n",
              "    <button class=\"colab-df-convert\" onclick=\"convertToInteractive('df-ced7d72a-a694-487c-b69f-61954bb5ad0a')\"\n",
              "            title=\"Convert this dataframe to an interactive table.\"\n",
              "            style=\"display:none;\">\n",
              "\n",
              "  <svg xmlns=\"http://www.w3.org/2000/svg\" height=\"24px\" viewBox=\"0 -960 960 960\">\n",
              "    <path d=\"M120-120v-720h720v720H120Zm60-500h600v-160H180v160Zm220 220h160v-160H400v160Zm0 220h160v-160H400v160ZM180-400h160v-160H180v160Zm440 0h160v-160H620v160ZM180-180h160v-160H180v160Zm440 0h160v-160H620v160Z\"/>\n",
              "  </svg>\n",
              "    </button>\n",
              "\n",
              "  <style>\n",
              "    .colab-df-container {\n",
              "      display:flex;\n",
              "      gap: 12px;\n",
              "    }\n",
              "\n",
              "    .colab-df-convert {\n",
              "      background-color: #E8F0FE;\n",
              "      border: none;\n",
              "      border-radius: 50%;\n",
              "      cursor: pointer;\n",
              "      display: none;\n",
              "      fill: #1967D2;\n",
              "      height: 32px;\n",
              "      padding: 0 0 0 0;\n",
              "      width: 32px;\n",
              "    }\n",
              "\n",
              "    .colab-df-convert:hover {\n",
              "      background-color: #E2EBFA;\n",
              "      box-shadow: 0px 1px 2px rgba(60, 64, 67, 0.3), 0px 1px 3px 1px rgba(60, 64, 67, 0.15);\n",
              "      fill: #174EA6;\n",
              "    }\n",
              "\n",
              "    .colab-df-buttons div {\n",
              "      margin-bottom: 4px;\n",
              "    }\n",
              "\n",
              "    [theme=dark] .colab-df-convert {\n",
              "      background-color: #3B4455;\n",
              "      fill: #D2E3FC;\n",
              "    }\n",
              "\n",
              "    [theme=dark] .colab-df-convert:hover {\n",
              "      background-color: #434B5C;\n",
              "      box-shadow: 0px 1px 3px 1px rgba(0, 0, 0, 0.15);\n",
              "      filter: drop-shadow(0px 1px 2px rgba(0, 0, 0, 0.3));\n",
              "      fill: #FFFFFF;\n",
              "    }\n",
              "  </style>\n",
              "\n",
              "    <script>\n",
              "      const buttonEl =\n",
              "        document.querySelector('#df-ced7d72a-a694-487c-b69f-61954bb5ad0a button.colab-df-convert');\n",
              "      buttonEl.style.display =\n",
              "        google.colab.kernel.accessAllowed ? 'block' : 'none';\n",
              "\n",
              "      async function convertToInteractive(key) {\n",
              "        const element = document.querySelector('#df-ced7d72a-a694-487c-b69f-61954bb5ad0a');\n",
              "        const dataTable =\n",
              "          await google.colab.kernel.invokeFunction('convertToInteractive',\n",
              "                                                    [key], {});\n",
              "        if (!dataTable) return;\n",
              "\n",
              "        const docLinkHtml = 'Like what you see? Visit the ' +\n",
              "          '<a target=\"_blank\" href=https://colab.research.google.com/notebooks/data_table.ipynb>data table notebook</a>'\n",
              "          + ' to learn more about interactive tables.';\n",
              "        element.innerHTML = '';\n",
              "        dataTable['output_type'] = 'display_data';\n",
              "        await google.colab.output.renderOutput(dataTable, element);\n",
              "        const docLink = document.createElement('div');\n",
              "        docLink.innerHTML = docLinkHtml;\n",
              "        element.appendChild(docLink);\n",
              "      }\n",
              "    </script>\n",
              "  </div>\n",
              "\n",
              "\n",
              "<div id=\"df-9239077d-dbdf-44a4-a469-a4fc28c937f1\">\n",
              "  <button class=\"colab-df-quickchart\" onclick=\"quickchart('df-9239077d-dbdf-44a4-a469-a4fc28c937f1')\"\n",
              "            title=\"Suggest charts.\"\n",
              "            style=\"display:none;\">\n",
              "\n",
              "<svg xmlns=\"http://www.w3.org/2000/svg\" height=\"24px\"viewBox=\"0 0 24 24\"\n",
              "     width=\"24px\">\n",
              "    <g>\n",
              "        <path d=\"M19 3H5c-1.1 0-2 .9-2 2v14c0 1.1.9 2 2 2h14c1.1 0 2-.9 2-2V5c0-1.1-.9-2-2-2zM9 17H7v-7h2v7zm4 0h-2V7h2v10zm4 0h-2v-4h2v4z\"/>\n",
              "    </g>\n",
              "</svg>\n",
              "  </button>\n",
              "\n",
              "<style>\n",
              "  .colab-df-quickchart {\n",
              "      --bg-color: #E8F0FE;\n",
              "      --fill-color: #1967D2;\n",
              "      --hover-bg-color: #E2EBFA;\n",
              "      --hover-fill-color: #174EA6;\n",
              "      --disabled-fill-color: #AAA;\n",
              "      --disabled-bg-color: #DDD;\n",
              "  }\n",
              "\n",
              "  [theme=dark] .colab-df-quickchart {\n",
              "      --bg-color: #3B4455;\n",
              "      --fill-color: #D2E3FC;\n",
              "      --hover-bg-color: #434B5C;\n",
              "      --hover-fill-color: #FFFFFF;\n",
              "      --disabled-bg-color: #3B4455;\n",
              "      --disabled-fill-color: #666;\n",
              "  }\n",
              "\n",
              "  .colab-df-quickchart {\n",
              "    background-color: var(--bg-color);\n",
              "    border: none;\n",
              "    border-radius: 50%;\n",
              "    cursor: pointer;\n",
              "    display: none;\n",
              "    fill: var(--fill-color);\n",
              "    height: 32px;\n",
              "    padding: 0;\n",
              "    width: 32px;\n",
              "  }\n",
              "\n",
              "  .colab-df-quickchart:hover {\n",
              "    background-color: var(--hover-bg-color);\n",
              "    box-shadow: 0 1px 2px rgba(60, 64, 67, 0.3), 0 1px 3px 1px rgba(60, 64, 67, 0.15);\n",
              "    fill: var(--button-hover-fill-color);\n",
              "  }\n",
              "\n",
              "  .colab-df-quickchart-complete:disabled,\n",
              "  .colab-df-quickchart-complete:disabled:hover {\n",
              "    background-color: var(--disabled-bg-color);\n",
              "    fill: var(--disabled-fill-color);\n",
              "    box-shadow: none;\n",
              "  }\n",
              "\n",
              "  .colab-df-spinner {\n",
              "    border: 2px solid var(--fill-color);\n",
              "    border-color: transparent;\n",
              "    border-bottom-color: var(--fill-color);\n",
              "    animation:\n",
              "      spin 1s steps(1) infinite;\n",
              "  }\n",
              "\n",
              "  @keyframes spin {\n",
              "    0% {\n",
              "      border-color: transparent;\n",
              "      border-bottom-color: var(--fill-color);\n",
              "      border-left-color: var(--fill-color);\n",
              "    }\n",
              "    20% {\n",
              "      border-color: transparent;\n",
              "      border-left-color: var(--fill-color);\n",
              "      border-top-color: var(--fill-color);\n",
              "    }\n",
              "    30% {\n",
              "      border-color: transparent;\n",
              "      border-left-color: var(--fill-color);\n",
              "      border-top-color: var(--fill-color);\n",
              "      border-right-color: var(--fill-color);\n",
              "    }\n",
              "    40% {\n",
              "      border-color: transparent;\n",
              "      border-right-color: var(--fill-color);\n",
              "      border-top-color: var(--fill-color);\n",
              "    }\n",
              "    60% {\n",
              "      border-color: transparent;\n",
              "      border-right-color: var(--fill-color);\n",
              "    }\n",
              "    80% {\n",
              "      border-color: transparent;\n",
              "      border-right-color: var(--fill-color);\n",
              "      border-bottom-color: var(--fill-color);\n",
              "    }\n",
              "    90% {\n",
              "      border-color: transparent;\n",
              "      border-bottom-color: var(--fill-color);\n",
              "    }\n",
              "  }\n",
              "</style>\n",
              "\n",
              "  <script>\n",
              "    async function quickchart(key) {\n",
              "      const quickchartButtonEl =\n",
              "        document.querySelector('#' + key + ' button');\n",
              "      quickchartButtonEl.disabled = true;  // To prevent multiple clicks.\n",
              "      quickchartButtonEl.classList.add('colab-df-spinner');\n",
              "      try {\n",
              "        const charts = await google.colab.kernel.invokeFunction(\n",
              "            'suggestCharts', [key], {});\n",
              "      } catch (error) {\n",
              "        console.error('Error during call to suggestCharts:', error);\n",
              "      }\n",
              "      quickchartButtonEl.classList.remove('colab-df-spinner');\n",
              "      quickchartButtonEl.classList.add('colab-df-quickchart-complete');\n",
              "    }\n",
              "    (() => {\n",
              "      let quickchartButtonEl =\n",
              "        document.querySelector('#df-9239077d-dbdf-44a4-a469-a4fc28c937f1 button');\n",
              "      quickchartButtonEl.style.display =\n",
              "        google.colab.kernel.accessAllowed ? 'block' : 'none';\n",
              "    })();\n",
              "  </script>\n",
              "</div>\n",
              "    </div>\n",
              "  </div>\n"
            ]
          },
          "metadata": {},
          "execution_count": 45
        }
      ]
    },
    {
      "cell_type": "code",
      "source": [
        "X = df[['Team1', 'Team2', 'Format', 'Toss_by_Team1', 'Bat_by_Team1', 'Ground_Country', 'Venue']]\n",
        "y = df[['Match_Result']]\n",
        "X_train,X_test,y_train,y_test = train_test_split(X,y,test_size=0.2,random_state=1)"
      ],
      "metadata": {
        "id": "uQtXsYdJsO4G"
      },
      "execution_count": null,
      "outputs": []
    },
    {
      "cell_type": "code",
      "source": [
        "X_train"
      ],
      "metadata": {
        "colab": {
          "base_uri": "https://localhost:8080/",
          "height": 419
        },
        "id": "bj6pq4wtsSB3",
        "outputId": "12e10850-7b06-4e75-d2aa-19741abccffc"
      },
      "execution_count": null,
      "outputs": [
        {
          "output_type": "execute_result",
          "data": {
            "text/plain": [
              "             Team1         Team2 Format Toss_by_Team1  Bat_by_Team1  \\\n",
              "4115   New Zealand  South Africa    ODI          lost             2   \n",
              "346   South Africa         India    ODI           won             1   \n",
              "2171   Afghanistan     Australia   T20I           won             2   \n",
              "40    South Africa       England    ODI           won             1   \n",
              "3162       England   West Indies   Test           won             2   \n",
              "...            ...           ...    ...           ...           ...   \n",
              "964       Pakistan     Australia   T20I          lost             1   \n",
              "5529  South Africa     Australia    ODI          lost             2   \n",
              "4238      Zimbabwe      Pakistan   T20I           won             1   \n",
              "240      Sri Lanka  South Africa    ODI           won             1   \n",
              "5493       England       Ireland    ODI           won             2   \n",
              "\n",
              "     Ground_Country    Venue  \n",
              "4115    New Zealand     Home  \n",
              "346    South Africa     Home  \n",
              "2171      Australia     Away  \n",
              "40          England     Away  \n",
              "3162        England     Home  \n",
              "...             ...      ...  \n",
              "964        Zimbabwe  Neutral  \n",
              "5529   South Africa     Home  \n",
              "4238       Pakistan     Away  \n",
              "240       Sri Lanka     Home  \n",
              "5493        Ireland     Away  \n",
              "\n",
              "[4190 rows x 7 columns]"
            ],
            "text/html": [
              "\n",
              "  <div id=\"df-37913ba1-e9f6-4ecf-a044-29f246155d90\" class=\"colab-df-container\">\n",
              "    <div>\n",
              "<style scoped>\n",
              "    .dataframe tbody tr th:only-of-type {\n",
              "        vertical-align: middle;\n",
              "    }\n",
              "\n",
              "    .dataframe tbody tr th {\n",
              "        vertical-align: top;\n",
              "    }\n",
              "\n",
              "    .dataframe thead th {\n",
              "        text-align: right;\n",
              "    }\n",
              "</style>\n",
              "<table border=\"1\" class=\"dataframe\">\n",
              "  <thead>\n",
              "    <tr style=\"text-align: right;\">\n",
              "      <th></th>\n",
              "      <th>Team1</th>\n",
              "      <th>Team2</th>\n",
              "      <th>Format</th>\n",
              "      <th>Toss_by_Team1</th>\n",
              "      <th>Bat_by_Team1</th>\n",
              "      <th>Ground_Country</th>\n",
              "      <th>Venue</th>\n",
              "    </tr>\n",
              "  </thead>\n",
              "  <tbody>\n",
              "    <tr>\n",
              "      <th>4115</th>\n",
              "      <td>New Zealand</td>\n",
              "      <td>South Africa</td>\n",
              "      <td>ODI</td>\n",
              "      <td>lost</td>\n",
              "      <td>2</td>\n",
              "      <td>New Zealand</td>\n",
              "      <td>Home</td>\n",
              "    </tr>\n",
              "    <tr>\n",
              "      <th>346</th>\n",
              "      <td>South Africa</td>\n",
              "      <td>India</td>\n",
              "      <td>ODI</td>\n",
              "      <td>won</td>\n",
              "      <td>1</td>\n",
              "      <td>South Africa</td>\n",
              "      <td>Home</td>\n",
              "    </tr>\n",
              "    <tr>\n",
              "      <th>2171</th>\n",
              "      <td>Afghanistan</td>\n",
              "      <td>Australia</td>\n",
              "      <td>T20I</td>\n",
              "      <td>won</td>\n",
              "      <td>2</td>\n",
              "      <td>Australia</td>\n",
              "      <td>Away</td>\n",
              "    </tr>\n",
              "    <tr>\n",
              "      <th>40</th>\n",
              "      <td>South Africa</td>\n",
              "      <td>England</td>\n",
              "      <td>ODI</td>\n",
              "      <td>won</td>\n",
              "      <td>1</td>\n",
              "      <td>England</td>\n",
              "      <td>Away</td>\n",
              "    </tr>\n",
              "    <tr>\n",
              "      <th>3162</th>\n",
              "      <td>England</td>\n",
              "      <td>West Indies</td>\n",
              "      <td>Test</td>\n",
              "      <td>won</td>\n",
              "      <td>2</td>\n",
              "      <td>England</td>\n",
              "      <td>Home</td>\n",
              "    </tr>\n",
              "    <tr>\n",
              "      <th>...</th>\n",
              "      <td>...</td>\n",
              "      <td>...</td>\n",
              "      <td>...</td>\n",
              "      <td>...</td>\n",
              "      <td>...</td>\n",
              "      <td>...</td>\n",
              "      <td>...</td>\n",
              "    </tr>\n",
              "    <tr>\n",
              "      <th>964</th>\n",
              "      <td>Pakistan</td>\n",
              "      <td>Australia</td>\n",
              "      <td>T20I</td>\n",
              "      <td>lost</td>\n",
              "      <td>1</td>\n",
              "      <td>Zimbabwe</td>\n",
              "      <td>Neutral</td>\n",
              "    </tr>\n",
              "    <tr>\n",
              "      <th>5529</th>\n",
              "      <td>South Africa</td>\n",
              "      <td>Australia</td>\n",
              "      <td>ODI</td>\n",
              "      <td>lost</td>\n",
              "      <td>2</td>\n",
              "      <td>South Africa</td>\n",
              "      <td>Home</td>\n",
              "    </tr>\n",
              "    <tr>\n",
              "      <th>4238</th>\n",
              "      <td>Zimbabwe</td>\n",
              "      <td>Pakistan</td>\n",
              "      <td>T20I</td>\n",
              "      <td>won</td>\n",
              "      <td>1</td>\n",
              "      <td>Pakistan</td>\n",
              "      <td>Away</td>\n",
              "    </tr>\n",
              "    <tr>\n",
              "      <th>240</th>\n",
              "      <td>Sri Lanka</td>\n",
              "      <td>South Africa</td>\n",
              "      <td>ODI</td>\n",
              "      <td>won</td>\n",
              "      <td>1</td>\n",
              "      <td>Sri Lanka</td>\n",
              "      <td>Home</td>\n",
              "    </tr>\n",
              "    <tr>\n",
              "      <th>5493</th>\n",
              "      <td>England</td>\n",
              "      <td>Ireland</td>\n",
              "      <td>ODI</td>\n",
              "      <td>won</td>\n",
              "      <td>2</td>\n",
              "      <td>Ireland</td>\n",
              "      <td>Away</td>\n",
              "    </tr>\n",
              "  </tbody>\n",
              "</table>\n",
              "<p>4190 rows × 7 columns</p>\n",
              "</div>\n",
              "    <div class=\"colab-df-buttons\">\n",
              "\n",
              "  <div class=\"colab-df-container\">\n",
              "    <button class=\"colab-df-convert\" onclick=\"convertToInteractive('df-37913ba1-e9f6-4ecf-a044-29f246155d90')\"\n",
              "            title=\"Convert this dataframe to an interactive table.\"\n",
              "            style=\"display:none;\">\n",
              "\n",
              "  <svg xmlns=\"http://www.w3.org/2000/svg\" height=\"24px\" viewBox=\"0 -960 960 960\">\n",
              "    <path d=\"M120-120v-720h720v720H120Zm60-500h600v-160H180v160Zm220 220h160v-160H400v160Zm0 220h160v-160H400v160ZM180-400h160v-160H180v160Zm440 0h160v-160H620v160ZM180-180h160v-160H180v160Zm440 0h160v-160H620v160Z\"/>\n",
              "  </svg>\n",
              "    </button>\n",
              "\n",
              "  <style>\n",
              "    .colab-df-container {\n",
              "      display:flex;\n",
              "      gap: 12px;\n",
              "    }\n",
              "\n",
              "    .colab-df-convert {\n",
              "      background-color: #E8F0FE;\n",
              "      border: none;\n",
              "      border-radius: 50%;\n",
              "      cursor: pointer;\n",
              "      display: none;\n",
              "      fill: #1967D2;\n",
              "      height: 32px;\n",
              "      padding: 0 0 0 0;\n",
              "      width: 32px;\n",
              "    }\n",
              "\n",
              "    .colab-df-convert:hover {\n",
              "      background-color: #E2EBFA;\n",
              "      box-shadow: 0px 1px 2px rgba(60, 64, 67, 0.3), 0px 1px 3px 1px rgba(60, 64, 67, 0.15);\n",
              "      fill: #174EA6;\n",
              "    }\n",
              "\n",
              "    .colab-df-buttons div {\n",
              "      margin-bottom: 4px;\n",
              "    }\n",
              "\n",
              "    [theme=dark] .colab-df-convert {\n",
              "      background-color: #3B4455;\n",
              "      fill: #D2E3FC;\n",
              "    }\n",
              "\n",
              "    [theme=dark] .colab-df-convert:hover {\n",
              "      background-color: #434B5C;\n",
              "      box-shadow: 0px 1px 3px 1px rgba(0, 0, 0, 0.15);\n",
              "      filter: drop-shadow(0px 1px 2px rgba(0, 0, 0, 0.3));\n",
              "      fill: #FFFFFF;\n",
              "    }\n",
              "  </style>\n",
              "\n",
              "    <script>\n",
              "      const buttonEl =\n",
              "        document.querySelector('#df-37913ba1-e9f6-4ecf-a044-29f246155d90 button.colab-df-convert');\n",
              "      buttonEl.style.display =\n",
              "        google.colab.kernel.accessAllowed ? 'block' : 'none';\n",
              "\n",
              "      async function convertToInteractive(key) {\n",
              "        const element = document.querySelector('#df-37913ba1-e9f6-4ecf-a044-29f246155d90');\n",
              "        const dataTable =\n",
              "          await google.colab.kernel.invokeFunction('convertToInteractive',\n",
              "                                                    [key], {});\n",
              "        if (!dataTable) return;\n",
              "\n",
              "        const docLinkHtml = 'Like what you see? Visit the ' +\n",
              "          '<a target=\"_blank\" href=https://colab.research.google.com/notebooks/data_table.ipynb>data table notebook</a>'\n",
              "          + ' to learn more about interactive tables.';\n",
              "        element.innerHTML = '';\n",
              "        dataTable['output_type'] = 'display_data';\n",
              "        await google.colab.output.renderOutput(dataTable, element);\n",
              "        const docLink = document.createElement('div');\n",
              "        docLink.innerHTML = docLinkHtml;\n",
              "        element.appendChild(docLink);\n",
              "      }\n",
              "    </script>\n",
              "  </div>\n",
              "\n",
              "\n",
              "<div id=\"df-88448989-7f01-4fbb-9fa4-a32de5670ec8\">\n",
              "  <button class=\"colab-df-quickchart\" onclick=\"quickchart('df-88448989-7f01-4fbb-9fa4-a32de5670ec8')\"\n",
              "            title=\"Suggest charts.\"\n",
              "            style=\"display:none;\">\n",
              "\n",
              "<svg xmlns=\"http://www.w3.org/2000/svg\" height=\"24px\"viewBox=\"0 0 24 24\"\n",
              "     width=\"24px\">\n",
              "    <g>\n",
              "        <path d=\"M19 3H5c-1.1 0-2 .9-2 2v14c0 1.1.9 2 2 2h14c1.1 0 2-.9 2-2V5c0-1.1-.9-2-2-2zM9 17H7v-7h2v7zm4 0h-2V7h2v10zm4 0h-2v-4h2v4z\"/>\n",
              "    </g>\n",
              "</svg>\n",
              "  </button>\n",
              "\n",
              "<style>\n",
              "  .colab-df-quickchart {\n",
              "      --bg-color: #E8F0FE;\n",
              "      --fill-color: #1967D2;\n",
              "      --hover-bg-color: #E2EBFA;\n",
              "      --hover-fill-color: #174EA6;\n",
              "      --disabled-fill-color: #AAA;\n",
              "      --disabled-bg-color: #DDD;\n",
              "  }\n",
              "\n",
              "  [theme=dark] .colab-df-quickchart {\n",
              "      --bg-color: #3B4455;\n",
              "      --fill-color: #D2E3FC;\n",
              "      --hover-bg-color: #434B5C;\n",
              "      --hover-fill-color: #FFFFFF;\n",
              "      --disabled-bg-color: #3B4455;\n",
              "      --disabled-fill-color: #666;\n",
              "  }\n",
              "\n",
              "  .colab-df-quickchart {\n",
              "    background-color: var(--bg-color);\n",
              "    border: none;\n",
              "    border-radius: 50%;\n",
              "    cursor: pointer;\n",
              "    display: none;\n",
              "    fill: var(--fill-color);\n",
              "    height: 32px;\n",
              "    padding: 0;\n",
              "    width: 32px;\n",
              "  }\n",
              "\n",
              "  .colab-df-quickchart:hover {\n",
              "    background-color: var(--hover-bg-color);\n",
              "    box-shadow: 0 1px 2px rgba(60, 64, 67, 0.3), 0 1px 3px 1px rgba(60, 64, 67, 0.15);\n",
              "    fill: var(--button-hover-fill-color);\n",
              "  }\n",
              "\n",
              "  .colab-df-quickchart-complete:disabled,\n",
              "  .colab-df-quickchart-complete:disabled:hover {\n",
              "    background-color: var(--disabled-bg-color);\n",
              "    fill: var(--disabled-fill-color);\n",
              "    box-shadow: none;\n",
              "  }\n",
              "\n",
              "  .colab-df-spinner {\n",
              "    border: 2px solid var(--fill-color);\n",
              "    border-color: transparent;\n",
              "    border-bottom-color: var(--fill-color);\n",
              "    animation:\n",
              "      spin 1s steps(1) infinite;\n",
              "  }\n",
              "\n",
              "  @keyframes spin {\n",
              "    0% {\n",
              "      border-color: transparent;\n",
              "      border-bottom-color: var(--fill-color);\n",
              "      border-left-color: var(--fill-color);\n",
              "    }\n",
              "    20% {\n",
              "      border-color: transparent;\n",
              "      border-left-color: var(--fill-color);\n",
              "      border-top-color: var(--fill-color);\n",
              "    }\n",
              "    30% {\n",
              "      border-color: transparent;\n",
              "      border-left-color: var(--fill-color);\n",
              "      border-top-color: var(--fill-color);\n",
              "      border-right-color: var(--fill-color);\n",
              "    }\n",
              "    40% {\n",
              "      border-color: transparent;\n",
              "      border-right-color: var(--fill-color);\n",
              "      border-top-color: var(--fill-color);\n",
              "    }\n",
              "    60% {\n",
              "      border-color: transparent;\n",
              "      border-right-color: var(--fill-color);\n",
              "    }\n",
              "    80% {\n",
              "      border-color: transparent;\n",
              "      border-right-color: var(--fill-color);\n",
              "      border-bottom-color: var(--fill-color);\n",
              "    }\n",
              "    90% {\n",
              "      border-color: transparent;\n",
              "      border-bottom-color: var(--fill-color);\n",
              "    }\n",
              "  }\n",
              "</style>\n",
              "\n",
              "  <script>\n",
              "    async function quickchart(key) {\n",
              "      const quickchartButtonEl =\n",
              "        document.querySelector('#' + key + ' button');\n",
              "      quickchartButtonEl.disabled = true;  // To prevent multiple clicks.\n",
              "      quickchartButtonEl.classList.add('colab-df-spinner');\n",
              "      try {\n",
              "        const charts = await google.colab.kernel.invokeFunction(\n",
              "            'suggestCharts', [key], {});\n",
              "      } catch (error) {\n",
              "        console.error('Error during call to suggestCharts:', error);\n",
              "      }\n",
              "      quickchartButtonEl.classList.remove('colab-df-spinner');\n",
              "      quickchartButtonEl.classList.add('colab-df-quickchart-complete');\n",
              "    }\n",
              "    (() => {\n",
              "      let quickchartButtonEl =\n",
              "        document.querySelector('#df-88448989-7f01-4fbb-9fa4-a32de5670ec8 button');\n",
              "      quickchartButtonEl.style.display =\n",
              "        google.colab.kernel.accessAllowed ? 'block' : 'none';\n",
              "    })();\n",
              "  </script>\n",
              "</div>\n",
              "    </div>\n",
              "  </div>\n"
            ]
          },
          "metadata": {},
          "execution_count": 47
        }
      ]
    },
    {
      "cell_type": "code",
      "source": [
        "trf = ColumnTransformer(transformers=[\n",
        "    ('trf1',OneHotEncoder(sparse=False,drop='first'),['Team1','Team2','Format', 'Ground_Country']),\n",
        "    ('trf2',OrdinalEncoder (categories= [['Home', 'Neutral', 'Away']]), ['Venue']),\n",
        "    ('trf3',OrdinalEncoder (categories= [['won', 'lost']]), ['Toss_by_Team1'])\n",
        "\n",
        "\n",
        "]\n",
        ",remainder='passthrough')"
      ],
      "metadata": {
        "id": "yruH-sWxsVig"
      },
      "execution_count": null,
      "outputs": []
    },
    {
      "cell_type": "code",
      "source": [
        "# Transforming the data using the previously defined transformer\n",
        "X_train_transformed = trf.fit_transform(X_train)\n",
        "X_test_transformed = trf.transform(X_test)"
      ],
      "metadata": {
        "colab": {
          "base_uri": "https://localhost:8080/"
        },
        "id": "d4CZgDSfsYbx",
        "outputId": "32d9849a-6d30-4763-bd5f-478284611e53"
      },
      "execution_count": null,
      "outputs": [
        {
          "output_type": "stream",
          "name": "stderr",
          "text": [
            "/usr/local/lib/python3.10/dist-packages/sklearn/preprocessing/_encoders.py:868: FutureWarning: `sparse` was renamed to `sparse_output` in version 1.2 and will be removed in 1.4. `sparse_output` is ignored unless you leave `sparse` to its default value.\n",
            "  warnings.warn(\n"
          ]
        }
      ]
    },
    {
      "cell_type": "code",
      "source": [
        "# Training the logistic regression model\n",
        "logreg_model = LogisticRegression(max_iter=10000)\n",
        "logreg_model.fit(X_train_transformed, y_train)\n",
        "\n",
        "# Making predictions on the test data\n",
        "logreg_predictions = logreg_model.predict(X_test_transformed)\n",
        "\n",
        "# Evaluating the model using accuracy score, precision score, and F1 score\n",
        "logreg_accuracy = accuracy_score(y_test, logreg_predictions)\n",
        "logreg_precision = precision_score(y_test, logreg_predictions, average='weighted')\n",
        "logreg_f1 = f1_score(y_test, logreg_predictions, average='weighted')\n",
        "\n",
        "print(\"Accuracy : {:.2%}\".format(logreg_accuracy))\n",
        "print(\"Precision: {:.2%}\".format(logreg_precision))\n",
        "print(\"F1-score: {:.2%}\".format(logreg_f1))"
      ],
      "metadata": {
        "colab": {
          "base_uri": "https://localhost:8080/"
        },
        "id": "jflNJ6HpsbHd",
        "outputId": "2f4f5621-31d2-4f23-ce6e-ff09f4d76218"
      },
      "execution_count": null,
      "outputs": [
        {
          "output_type": "stream",
          "name": "stderr",
          "text": [
            "/usr/local/lib/python3.10/dist-packages/sklearn/utils/validation.py:1143: DataConversionWarning: A column-vector y was passed when a 1d array was expected. Please change the shape of y to (n_samples, ), for example using ravel().\n",
            "  y = column_or_1d(y, warn=True)\n"
          ]
        },
        {
          "output_type": "stream",
          "name": "stdout",
          "text": [
            "Accuracy : 62.98%\n",
            "Precision: 62.04%\n",
            "F1-score: 61.85%\n"
          ]
        }
      ]
    },
    {
      "cell_type": "code",
      "source": [
        "# Training the random forest model\n",
        "rf_model = RandomForestClassifier(n_estimators=100, random_state=42)\n",
        "rf_model.fit(X_train_transformed, y_train)\n",
        "\n",
        "# Making predictions on the test data\n",
        "rf_predictions = rf_model.predict(X_test_transformed)\n",
        "\n",
        "# Evaluating the model using accuracy score, precision score, and F1 score\n",
        "rf_accuracy = accuracy_score(y_test, rf_predictions)\n",
        "rf_precision = precision_score(y_test, rf_predictions, average='macro')\n",
        "rf_f1 = f1_score(y_test, rf_predictions, average='macro')\n",
        "\n",
        "print(\"Accuracy : {:.2%}\".format(rf_accuracy))\n",
        "print(\"Precision: {:.2%}\".format(rf_precision))\n",
        "print(\"F1-score: {:.2%}\".format(rf_f1))"
      ],
      "metadata": {
        "colab": {
          "base_uri": "https://localhost:8080/"
        },
        "id": "O1Jh77foses0",
        "outputId": "5cd425dd-0d14-498c-8ba1-fba81ed77766"
      },
      "execution_count": null,
      "outputs": [
        {
          "output_type": "stream",
          "name": "stderr",
          "text": [
            "<ipython-input-51-60ea4041c8f8>:3: DataConversionWarning: A column-vector y was passed when a 1d array was expected. Please change the shape of y to (n_samples,), for example using ravel().\n",
            "  rf_model.fit(X_train_transformed, y_train)\n"
          ]
        },
        {
          "output_type": "stream",
          "name": "stdout",
          "text": [
            "Accuracy : 59.06%\n",
            "Precision: 49.77%\n",
            "F1-score: 47.14%\n"
          ]
        }
      ]
    },
    {
      "cell_type": "code",
      "source": [
        "svm_model = SVC(probability=True)\n",
        "pipe = Pipeline(steps=[\n",
        "    ('step1',trf),\n",
        "    ('step2', SVC(kernel='rbf', C=1.0, gamma='scale'))])"
      ],
      "metadata": {
        "id": "EAw0-gVwsipO"
      },
      "execution_count": null,
      "outputs": []
    },
    {
      "cell_type": "code",
      "source": [
        "pipe.fit(X_train,y_train)"
      ],
      "metadata": {
        "colab": {
          "base_uri": "https://localhost:8080/",
          "height": 276
        },
        "id": "jA5gjgDmsmPP",
        "outputId": "99cb5b32-6497-4d87-a44f-fa7fc93d9128"
      },
      "execution_count": null,
      "outputs": [
        {
          "output_type": "stream",
          "name": "stderr",
          "text": [
            "/usr/local/lib/python3.10/dist-packages/sklearn/preprocessing/_encoders.py:868: FutureWarning: `sparse` was renamed to `sparse_output` in version 1.2 and will be removed in 1.4. `sparse_output` is ignored unless you leave `sparse` to its default value.\n",
            "  warnings.warn(\n",
            "/usr/local/lib/python3.10/dist-packages/sklearn/utils/validation.py:1143: DataConversionWarning: A column-vector y was passed when a 1d array was expected. Please change the shape of y to (n_samples, ), for example using ravel().\n",
            "  y = column_or_1d(y, warn=True)\n"
          ]
        },
        {
          "output_type": "execute_result",
          "data": {
            "text/plain": [
              "Pipeline(steps=[('step1',\n",
              "                 ColumnTransformer(remainder='passthrough',\n",
              "                                   transformers=[('trf1',\n",
              "                                                  OneHotEncoder(drop='first',\n",
              "                                                                sparse=False),\n",
              "                                                  ['Team1', 'Team2', 'Format',\n",
              "                                                   'Ground_Country']),\n",
              "                                                 ('trf2',\n",
              "                                                  OrdinalEncoder(categories=[['Home',\n",
              "                                                                              'Neutral',\n",
              "                                                                              'Away']]),\n",
              "                                                  ['Venue']),\n",
              "                                                 ('trf3',\n",
              "                                                  OrdinalEncoder(categories=[['won',\n",
              "                                                                              'lost']]),\n",
              "                                                  ['Toss_by_Team1'])])),\n",
              "                ('step2', SVC())])"
            ],
            "text/html": [
              "<style>#sk-container-id-1 {color: black;background-color: white;}#sk-container-id-1 pre{padding: 0;}#sk-container-id-1 div.sk-toggleable {background-color: white;}#sk-container-id-1 label.sk-toggleable__label {cursor: pointer;display: block;width: 100%;margin-bottom: 0;padding: 0.3em;box-sizing: border-box;text-align: center;}#sk-container-id-1 label.sk-toggleable__label-arrow:before {content: \"▸\";float: left;margin-right: 0.25em;color: #696969;}#sk-container-id-1 label.sk-toggleable__label-arrow:hover:before {color: black;}#sk-container-id-1 div.sk-estimator:hover label.sk-toggleable__label-arrow:before {color: black;}#sk-container-id-1 div.sk-toggleable__content {max-height: 0;max-width: 0;overflow: hidden;text-align: left;background-color: #f0f8ff;}#sk-container-id-1 div.sk-toggleable__content pre {margin: 0.2em;color: black;border-radius: 0.25em;background-color: #f0f8ff;}#sk-container-id-1 input.sk-toggleable__control:checked~div.sk-toggleable__content {max-height: 200px;max-width: 100%;overflow: auto;}#sk-container-id-1 input.sk-toggleable__control:checked~label.sk-toggleable__label-arrow:before {content: \"▾\";}#sk-container-id-1 div.sk-estimator input.sk-toggleable__control:checked~label.sk-toggleable__label {background-color: #d4ebff;}#sk-container-id-1 div.sk-label input.sk-toggleable__control:checked~label.sk-toggleable__label {background-color: #d4ebff;}#sk-container-id-1 input.sk-hidden--visually {border: 0;clip: rect(1px 1px 1px 1px);clip: rect(1px, 1px, 1px, 1px);height: 1px;margin: -1px;overflow: hidden;padding: 0;position: absolute;width: 1px;}#sk-container-id-1 div.sk-estimator {font-family: monospace;background-color: #f0f8ff;border: 1px dotted black;border-radius: 0.25em;box-sizing: border-box;margin-bottom: 0.5em;}#sk-container-id-1 div.sk-estimator:hover {background-color: #d4ebff;}#sk-container-id-1 div.sk-parallel-item::after {content: \"\";width: 100%;border-bottom: 1px solid gray;flex-grow: 1;}#sk-container-id-1 div.sk-label:hover label.sk-toggleable__label {background-color: #d4ebff;}#sk-container-id-1 div.sk-serial::before {content: \"\";position: absolute;border-left: 1px solid gray;box-sizing: border-box;top: 0;bottom: 0;left: 50%;z-index: 0;}#sk-container-id-1 div.sk-serial {display: flex;flex-direction: column;align-items: center;background-color: white;padding-right: 0.2em;padding-left: 0.2em;position: relative;}#sk-container-id-1 div.sk-item {position: relative;z-index: 1;}#sk-container-id-1 div.sk-parallel {display: flex;align-items: stretch;justify-content: center;background-color: white;position: relative;}#sk-container-id-1 div.sk-item::before, #sk-container-id-1 div.sk-parallel-item::before {content: \"\";position: absolute;border-left: 1px solid gray;box-sizing: border-box;top: 0;bottom: 0;left: 50%;z-index: -1;}#sk-container-id-1 div.sk-parallel-item {display: flex;flex-direction: column;z-index: 1;position: relative;background-color: white;}#sk-container-id-1 div.sk-parallel-item:first-child::after {align-self: flex-end;width: 50%;}#sk-container-id-1 div.sk-parallel-item:last-child::after {align-self: flex-start;width: 50%;}#sk-container-id-1 div.sk-parallel-item:only-child::after {width: 0;}#sk-container-id-1 div.sk-dashed-wrapped {border: 1px dashed gray;margin: 0 0.4em 0.5em 0.4em;box-sizing: border-box;padding-bottom: 0.4em;background-color: white;}#sk-container-id-1 div.sk-label label {font-family: monospace;font-weight: bold;display: inline-block;line-height: 1.2em;}#sk-container-id-1 div.sk-label-container {text-align: center;}#sk-container-id-1 div.sk-container {/* jupyter's `normalize.less` sets `[hidden] { display: none; }` but bootstrap.min.css set `[hidden] { display: none !important; }` so we also need the `!important` here to be able to override the default hidden behavior on the sphinx rendered scikit-learn.org. See: https://github.com/scikit-learn/scikit-learn/issues/21755 */display: inline-block !important;position: relative;}#sk-container-id-1 div.sk-text-repr-fallback {display: none;}</style><div id=\"sk-container-id-1\" class=\"sk-top-container\"><div class=\"sk-text-repr-fallback\"><pre>Pipeline(steps=[(&#x27;step1&#x27;,\n",
              "                 ColumnTransformer(remainder=&#x27;passthrough&#x27;,\n",
              "                                   transformers=[(&#x27;trf1&#x27;,\n",
              "                                                  OneHotEncoder(drop=&#x27;first&#x27;,\n",
              "                                                                sparse=False),\n",
              "                                                  [&#x27;Team1&#x27;, &#x27;Team2&#x27;, &#x27;Format&#x27;,\n",
              "                                                   &#x27;Ground_Country&#x27;]),\n",
              "                                                 (&#x27;trf2&#x27;,\n",
              "                                                  OrdinalEncoder(categories=[[&#x27;Home&#x27;,\n",
              "                                                                              &#x27;Neutral&#x27;,\n",
              "                                                                              &#x27;Away&#x27;]]),\n",
              "                                                  [&#x27;Venue&#x27;]),\n",
              "                                                 (&#x27;trf3&#x27;,\n",
              "                                                  OrdinalEncoder(categories=[[&#x27;won&#x27;,\n",
              "                                                                              &#x27;lost&#x27;]]),\n",
              "                                                  [&#x27;Toss_by_Team1&#x27;])])),\n",
              "                (&#x27;step2&#x27;, SVC())])</pre><b>In a Jupyter environment, please rerun this cell to show the HTML representation or trust the notebook. <br />On GitHub, the HTML representation is unable to render, please try loading this page with nbviewer.org.</b></div><div class=\"sk-container\" hidden><div class=\"sk-item sk-dashed-wrapped\"><div class=\"sk-label-container\"><div class=\"sk-label sk-toggleable\"><input class=\"sk-toggleable__control sk-hidden--visually\" id=\"sk-estimator-id-1\" type=\"checkbox\" ><label for=\"sk-estimator-id-1\" class=\"sk-toggleable__label sk-toggleable__label-arrow\">Pipeline</label><div class=\"sk-toggleable__content\"><pre>Pipeline(steps=[(&#x27;step1&#x27;,\n",
              "                 ColumnTransformer(remainder=&#x27;passthrough&#x27;,\n",
              "                                   transformers=[(&#x27;trf1&#x27;,\n",
              "                                                  OneHotEncoder(drop=&#x27;first&#x27;,\n",
              "                                                                sparse=False),\n",
              "                                                  [&#x27;Team1&#x27;, &#x27;Team2&#x27;, &#x27;Format&#x27;,\n",
              "                                                   &#x27;Ground_Country&#x27;]),\n",
              "                                                 (&#x27;trf2&#x27;,\n",
              "                                                  OrdinalEncoder(categories=[[&#x27;Home&#x27;,\n",
              "                                                                              &#x27;Neutral&#x27;,\n",
              "                                                                              &#x27;Away&#x27;]]),\n",
              "                                                  [&#x27;Venue&#x27;]),\n",
              "                                                 (&#x27;trf3&#x27;,\n",
              "                                                  OrdinalEncoder(categories=[[&#x27;won&#x27;,\n",
              "                                                                              &#x27;lost&#x27;]]),\n",
              "                                                  [&#x27;Toss_by_Team1&#x27;])])),\n",
              "                (&#x27;step2&#x27;, SVC())])</pre></div></div></div><div class=\"sk-serial\"><div class=\"sk-item sk-dashed-wrapped\"><div class=\"sk-label-container\"><div class=\"sk-label sk-toggleable\"><input class=\"sk-toggleable__control sk-hidden--visually\" id=\"sk-estimator-id-2\" type=\"checkbox\" ><label for=\"sk-estimator-id-2\" class=\"sk-toggleable__label sk-toggleable__label-arrow\">step1: ColumnTransformer</label><div class=\"sk-toggleable__content\"><pre>ColumnTransformer(remainder=&#x27;passthrough&#x27;,\n",
              "                  transformers=[(&#x27;trf1&#x27;,\n",
              "                                 OneHotEncoder(drop=&#x27;first&#x27;, sparse=False),\n",
              "                                 [&#x27;Team1&#x27;, &#x27;Team2&#x27;, &#x27;Format&#x27;,\n",
              "                                  &#x27;Ground_Country&#x27;]),\n",
              "                                (&#x27;trf2&#x27;,\n",
              "                                 OrdinalEncoder(categories=[[&#x27;Home&#x27;, &#x27;Neutral&#x27;,\n",
              "                                                             &#x27;Away&#x27;]]),\n",
              "                                 [&#x27;Venue&#x27;]),\n",
              "                                (&#x27;trf3&#x27;,\n",
              "                                 OrdinalEncoder(categories=[[&#x27;won&#x27;, &#x27;lost&#x27;]]),\n",
              "                                 [&#x27;Toss_by_Team1&#x27;])])</pre></div></div></div><div class=\"sk-parallel\"><div class=\"sk-parallel-item\"><div class=\"sk-item\"><div class=\"sk-label-container\"><div class=\"sk-label sk-toggleable\"><input class=\"sk-toggleable__control sk-hidden--visually\" id=\"sk-estimator-id-3\" type=\"checkbox\" ><label for=\"sk-estimator-id-3\" class=\"sk-toggleable__label sk-toggleable__label-arrow\">trf1</label><div class=\"sk-toggleable__content\"><pre>[&#x27;Team1&#x27;, &#x27;Team2&#x27;, &#x27;Format&#x27;, &#x27;Ground_Country&#x27;]</pre></div></div></div><div class=\"sk-serial\"><div class=\"sk-item\"><div class=\"sk-estimator sk-toggleable\"><input class=\"sk-toggleable__control sk-hidden--visually\" id=\"sk-estimator-id-4\" type=\"checkbox\" ><label for=\"sk-estimator-id-4\" class=\"sk-toggleable__label sk-toggleable__label-arrow\">OneHotEncoder</label><div class=\"sk-toggleable__content\"><pre>OneHotEncoder(drop=&#x27;first&#x27;, sparse=False)</pre></div></div></div></div></div></div><div class=\"sk-parallel-item\"><div class=\"sk-item\"><div class=\"sk-label-container\"><div class=\"sk-label sk-toggleable\"><input class=\"sk-toggleable__control sk-hidden--visually\" id=\"sk-estimator-id-5\" type=\"checkbox\" ><label for=\"sk-estimator-id-5\" class=\"sk-toggleable__label sk-toggleable__label-arrow\">trf2</label><div class=\"sk-toggleable__content\"><pre>[&#x27;Venue&#x27;]</pre></div></div></div><div class=\"sk-serial\"><div class=\"sk-item\"><div class=\"sk-estimator sk-toggleable\"><input class=\"sk-toggleable__control sk-hidden--visually\" id=\"sk-estimator-id-6\" type=\"checkbox\" ><label for=\"sk-estimator-id-6\" class=\"sk-toggleable__label sk-toggleable__label-arrow\">OrdinalEncoder</label><div class=\"sk-toggleable__content\"><pre>OrdinalEncoder(categories=[[&#x27;Home&#x27;, &#x27;Neutral&#x27;, &#x27;Away&#x27;]])</pre></div></div></div></div></div></div><div class=\"sk-parallel-item\"><div class=\"sk-item\"><div class=\"sk-label-container\"><div class=\"sk-label sk-toggleable\"><input class=\"sk-toggleable__control sk-hidden--visually\" id=\"sk-estimator-id-7\" type=\"checkbox\" ><label for=\"sk-estimator-id-7\" class=\"sk-toggleable__label sk-toggleable__label-arrow\">trf3</label><div class=\"sk-toggleable__content\"><pre>[&#x27;Toss_by_Team1&#x27;]</pre></div></div></div><div class=\"sk-serial\"><div class=\"sk-item\"><div class=\"sk-estimator sk-toggleable\"><input class=\"sk-toggleable__control sk-hidden--visually\" id=\"sk-estimator-id-8\" type=\"checkbox\" ><label for=\"sk-estimator-id-8\" class=\"sk-toggleable__label sk-toggleable__label-arrow\">OrdinalEncoder</label><div class=\"sk-toggleable__content\"><pre>OrdinalEncoder(categories=[[&#x27;won&#x27;, &#x27;lost&#x27;]])</pre></div></div></div></div></div></div><div class=\"sk-parallel-item\"><div class=\"sk-item\"><div class=\"sk-label-container\"><div class=\"sk-label sk-toggleable\"><input class=\"sk-toggleable__control sk-hidden--visually\" id=\"sk-estimator-id-9\" type=\"checkbox\" ><label for=\"sk-estimator-id-9\" class=\"sk-toggleable__label sk-toggleable__label-arrow\">remainder</label><div class=\"sk-toggleable__content\"><pre>[&#x27;Bat_by_Team1&#x27;]</pre></div></div></div><div class=\"sk-serial\"><div class=\"sk-item\"><div class=\"sk-estimator sk-toggleable\"><input class=\"sk-toggleable__control sk-hidden--visually\" id=\"sk-estimator-id-10\" type=\"checkbox\" ><label for=\"sk-estimator-id-10\" class=\"sk-toggleable__label sk-toggleable__label-arrow\">passthrough</label><div class=\"sk-toggleable__content\"><pre>passthrough</pre></div></div></div></div></div></div></div></div><div class=\"sk-item\"><div class=\"sk-estimator sk-toggleable\"><input class=\"sk-toggleable__control sk-hidden--visually\" id=\"sk-estimator-id-11\" type=\"checkbox\" ><label for=\"sk-estimator-id-11\" class=\"sk-toggleable__label sk-toggleable__label-arrow\">SVC</label><div class=\"sk-toggleable__content\"><pre>SVC()</pre></div></div></div></div></div></div></div>"
            ]
          },
          "metadata": {},
          "execution_count": 53
        }
      ]
    },
    {
      "cell_type": "code",
      "source": [
        "y_pred = pipe.predict(X_test)"
      ],
      "metadata": {
        "id": "p8F_Tye7spFS"
      },
      "execution_count": null,
      "outputs": []
    },
    {
      "cell_type": "code",
      "source": [
        "# Making predictions on the test data\n",
        "pipe_predictions = pipe.predict(X_test)\n",
        "\n",
        "# Evaluating the model using accuracy score, precision score, and F1 score\n",
        "pipe_accuracy = accuracy_score(y_test, pipe_predictions)\n",
        "pipe_precision = precision_score(y_test, pipe_predictions, average='weighted')\n",
        "pipe_f1 = f1_score(y_test, pipe_predictions, average='weighted')\n",
        "\n",
        "print(\"Accuracy : {:.2%}\".format(pipe_accuracy))\n",
        "print(\"Precision: {:.2%}\".format(pipe_precision))\n",
        "print(\"F1-score: {:.2%}\".format(pipe_f1))"
      ],
      "metadata": {
        "colab": {
          "base_uri": "https://localhost:8080/"
        },
        "id": "4k4x4-jusuTG",
        "outputId": "c4f28c6f-2868-4726-ebed-a199a8763da3"
      },
      "execution_count": null,
      "outputs": [
        {
          "output_type": "stream",
          "name": "stdout",
          "text": [
            "Accuracy : 63.55%\n",
            "Precision: 60.64%\n",
            "F1-score: 61.95%\n"
          ]
        },
        {
          "output_type": "stream",
          "name": "stderr",
          "text": [
            "/usr/local/lib/python3.10/dist-packages/sklearn/metrics/_classification.py:1344: UndefinedMetricWarning: Precision is ill-defined and being set to 0.0 in labels with no predicted samples. Use `zero_division` parameter to control this behavior.\n",
            "  _warn_prf(average, modifier, msg_start, len(result))\n"
          ]
        }
      ]
    },
    {
      "cell_type": "code",
      "source": [
        "# Assuming X_test and y_test are the test set data\n",
        "# Fitting the models\n",
        "logreg_model.fit(X_train_transformed, y_train)\n",
        "rf_model.fit(X_train_transformed, y_train)\n",
        "svm_model.fit(X_train_transformed, y_train)\n",
        "\n",
        "# Getting predictions on test set\n",
        "logreg_preds = logreg_model.predict(X_test_transformed)\n",
        "rfc_preds = rf_model.predict(X_test_transformed)\n",
        "svm_preds = svm_model.predict(X_test_transformed)\n",
        "\n",
        "\n",
        "# Convert the predictions to binary format\n",
        "log_pred_binary = [1 if x == 'won' else 0 for x in logreg_preds]\n",
        "rfc_pred_binary = [1 if x == 'won' else 0 for x in rfc_preds]\n",
        "svm_pred_binary = [1 if x == 'won' else 0 for x in svm_preds]\n",
        "\n",
        "\n",
        "# Get only the first 10 predictions\n",
        "log_pred_binary = log_pred_binary[:10]\n",
        "rfc_pred_binary = rfc_pred_binary[:10]\n",
        "svm_pred_binary = svm_pred_binary[:10]\n",
        "\n",
        "\n",
        "# Printing the predictions for each algorithm\n",
        "print(\"Logistic Regression predictions:\", log_pred_binary)\n",
        "print(\"Random Forest predictions:\", rfc_pred_binary)\n",
        "print(\"SVM predictions:\", svm_pred_binary)\n",
        "\n",
        "\n",
        "\n",
        "\n",
        "\n"
      ],
      "metadata": {
        "colab": {
          "base_uri": "https://localhost:8080/"
        },
        "id": "UZX-JMuEsw8W",
        "outputId": "b998e91d-349c-481d-ddf9-b3f1a10ca12a"
      },
      "execution_count": null,
      "outputs": [
        {
          "output_type": "stream",
          "name": "stderr",
          "text": [
            "/usr/local/lib/python3.10/dist-packages/sklearn/utils/validation.py:1143: DataConversionWarning: A column-vector y was passed when a 1d array was expected. Please change the shape of y to (n_samples, ), for example using ravel().\n",
            "  y = column_or_1d(y, warn=True)\n",
            "<ipython-input-56-7285e1d412da>:4: DataConversionWarning: A column-vector y was passed when a 1d array was expected. Please change the shape of y to (n_samples,), for example using ravel().\n",
            "  rf_model.fit(X_train_transformed, y_train)\n",
            "/usr/local/lib/python3.10/dist-packages/sklearn/utils/validation.py:1143: DataConversionWarning: A column-vector y was passed when a 1d array was expected. Please change the shape of y to (n_samples, ), for example using ravel().\n",
            "  y = column_or_1d(y, warn=True)\n"
          ]
        },
        {
          "output_type": "stream",
          "name": "stdout",
          "text": [
            "Logistic Regression predictions: [1, 0, 1, 1, 1, 0, 1, 0, 1, 1]\n",
            "Random Forest predictions: [1, 0, 1, 1, 0, 1, 1, 0, 1, 1]\n",
            "SVM predictions: [1, 0, 1, 1, 1, 1, 1, 0, 1, 1]\n"
          ]
        }
      ]
    },
    {
      "cell_type": "code",
      "source": [
        "from statsmodels.stats.contingency_tables import mcnemar\n",
        "\n",
        "# Creating contingency table for comparing Logistic Regression and SVM classifiers\n",
        "log_pred_binary = [1, 0, 1, 1, 1, 0, 1, 0, 1, 1]\n",
        "svm_pred_binary = [1, 0, 1, 1, 1, 1, 1, 0, 1, 1]\n",
        "cont_table = [[sum([1 for i in range(len(log_pred_binary)) if log_pred_binary[i]==1 and svm_pred_binary[i]==1]),\n",
        "               sum([1 for i in range(len(log_pred_binary)) if log_pred_binary[i]==1 and svm_pred_binary[i]==0])],\n",
        "              [sum([1 for i in range(len(log_pred_binary)) if log_pred_binary[i]==0 and svm_pred_binary[i]==1]),\n",
        "               sum([1 for i in range(len(log_pred_binary)) if log_pred_binary[i]==0 and svm_pred_binary[i]==0])]]\n",
        "\n",
        "# Printing the contingency table\n",
        "print(\"Contingency table:\")\n",
        "print(cont_table)\n",
        "\n",
        "# Calculating McNemar's test\n",
        "result = mcnemar(cont_table)\n",
        "\n",
        "# Printing the results\n",
        "print(\"\\nMcNemar's test:\")\n",
        "print(\"Statistic = \", result.statistic)\n",
        "print(\"p-value = \", result.pvalue)\n"
      ],
      "metadata": {
        "colab": {
          "base_uri": "https://localhost:8080/"
        },
        "id": "tcgcuHqPs0ZX",
        "outputId": "e0dcdd06-9ab4-4368-e865-4efaf4b9374b"
      },
      "execution_count": null,
      "outputs": [
        {
          "output_type": "stream",
          "name": "stdout",
          "text": [
            "Contingency table:\n",
            "[[7, 0], [1, 2]]\n",
            "\n",
            "McNemar's test:\n",
            "Statistic =  0.0\n",
            "p-value =  1.0\n"
          ]
        }
      ]
    },
    {
      "cell_type": "code",
      "source": [
        "from statsmodels.stats.contingency_tables import mcnemar\n",
        "\n",
        "# Creating contingency table for comparing Random Forest and SVM classifiers\n",
        "rfc_pred_binary = [1, 0, 1, 1, 0, 1, 1, 0, 1, 1]\n",
        "svm_pred_binary = [1, 0, 1, 1, 1, 1, 1, 0, 1, 1]\n",
        "cont_table = [[sum([1 for i in range(len(rfc_pred_binary)) if rfc_pred_binary[i]==1 and svm_pred_binary[i]==1]),\n",
        "               sum([1 for i in range(len(rfc_pred_binary)) if rfc_pred_binary[i]==1 and svm_pred_binary[i]==0])],\n",
        "              [sum([1 for i in range(len(rfc_pred_binary)) if rfc_pred_binary[i]==0 and svm_pred_binary[i]==1]),\n",
        "               sum([1 for i in range(len(rfc_pred_binary)) if rfc_pred_binary[i]==0 and svm_pred_binary[i]==0])]]\n",
        "\n",
        "# Printing the contingency table\n",
        "print(\"Contingency table:\")\n",
        "print(cont_table)\n",
        "\n",
        "# Calculating McNemar's test\n",
        "result = mcnemar(cont_table)\n",
        "\n",
        "# Printing the results\n",
        "print(\"\\nMcNemar's test:\")\n",
        "print(\"Statistic = \", result.statistic)\n",
        "print(\"p-value = \", result.pvalue)\n"
      ],
      "metadata": {
        "colab": {
          "base_uri": "https://localhost:8080/"
        },
        "id": "lfcdq_TPs-q1",
        "outputId": "c7fe3fee-c53d-4403-f561-8ed2fe5ec322"
      },
      "execution_count": null,
      "outputs": [
        {
          "output_type": "stream",
          "name": "stdout",
          "text": [
            "Contingency table:\n",
            "[[7, 0], [1, 2]]\n",
            "\n",
            "McNemar's test:\n",
            "Statistic =  0.0\n",
            "p-value =  1.0\n"
          ]
        }
      ]
    },
    {
      "cell_type": "code",
      "source": [
        "cm = confusion_matrix(y_test,y_pred)\n",
        "print('confusion matrix', cm)"
      ],
      "metadata": {
        "colab": {
          "base_uri": "https://localhost:8080/"
        },
        "id": "lqQFC62btB5M",
        "outputId": "84f13611-ba9b-4c0f-83cf-85e1a55bf118"
      },
      "execution_count": null,
      "outputs": [
        {
          "output_type": "stream",
          "name": "stdout",
          "text": [
            "confusion matrix [[334   0 185]\n",
            " [ 22   0  30]\n",
            " [145   0 332]]\n"
          ]
        }
      ]
    },
    {
      "cell_type": "code",
      "source": [
        "pickle.dump(pipe,open('pipe.pkl','wb'))"
      ],
      "metadata": {
        "id": "bMMs-QRZtFDW"
      },
      "execution_count": null,
      "outputs": []
    },
    {
      "cell_type": "code",
      "source": [],
      "metadata": {
        "id": "WTSB4alKtIeo"
      },
      "execution_count": null,
      "outputs": []
    }
  ]
}